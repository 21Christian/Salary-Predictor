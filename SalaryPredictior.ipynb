{
 "cells": [
  {
   "cell_type": "code",
   "execution_count": 11,
   "id": "457f9176",
   "metadata": {},
   "outputs": [
    {
     "data": {
      "text/plain": [
       "array([47056.91056911])"
      ]
     },
     "execution_count": 11,
     "metadata": {},
     "output_type": "execute_result"
    }
   ],
   "source": [
    "import pandas as pd\n",
    "import numpy as np\n",
    "from sklearn import linear_model\n",
    "import math\n",
    "\n",
    "# loading the data\n",
    "df = pd.read_csv('C:\\\\Users\\\\User\\\\Desktop\\\\Datasets\\\\hiring.csv')\n",
    "\n",
    "# cleaning and filling the missing data using the median of the corresponding columns \n",
    "median_experience = math.floor(df.experience.median())\n",
    "median_test_score = math.floor(df.test_score.median())\n",
    "df.experience = df.experience.fillna(median_experience)\n",
    "df.test_score = df.test_score.fillna(median_test_score)\n",
    "\n",
    "# training the model using linear Regression \n",
    "model = linear_model.LinearRegression()\n",
    "model.fit(df[['experience', 'test_score', 'interview']].values, df.salary)\n",
    "\n",
    "#Predicting the salary \n",
    "model.predict([[2, 9, 6]])"
   ]
  }
 ],
 "metadata": {
  "kernelspec": {
   "display_name": "Python 3 (ipykernel)",
   "language": "python",
   "name": "python3"
  },
  "language_info": {
   "codemirror_mode": {
    "name": "ipython",
    "version": 3
   },
   "file_extension": ".py",
   "mimetype": "text/x-python",
   "name": "python",
   "nbconvert_exporter": "python",
   "pygments_lexer": "ipython3",
   "version": "3.9.12"
  }
 },
 "nbformat": 4,
 "nbformat_minor": 5
}
